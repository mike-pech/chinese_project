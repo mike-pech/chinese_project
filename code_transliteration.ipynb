{
 "cells": [
  {
   "cell_type": "code",
   "execution_count": 1,
   "metadata": {},
   "outputs": [],
   "source": [
    "import pandas as pd\n",
    "from transliterate import translit"
   ]
  },
  {
   "cell_type": "code",
   "execution_count": 2,
   "metadata": {},
   "outputs": [],
   "source": [
    "df = pd.read_csv('preprocessed_chinese_dataset.csv')"
   ]
  },
  {
   "cell_type": "code",
   "execution_count": 3,
   "metadata": {},
   "outputs": [],
   "source": [
    "# метод перевода\n",
    "def transliterate_to_russian(text):\n",
    "    # return translit(text, 'ru')\n",
    "    transliterated_text = translit(text, 'ru')\n",
    "    replacements = {\n",
    "        'q': 'к', 'w': 'уо'\n",
    "    }\n",
    "\n",
    "    processed_text = ''\n",
    "    for char in transliterated_text:\n",
    "        processed_text += replacements.get(char, char)\n",
    "\n",
    "    return processed_text"
   ]
  },
  {
   "cell_type": "code",
   "execution_count": 4,
   "metadata": {},
   "outputs": [],
   "source": [
    "# применяем к датасету\n",
    "df_transliterated = df.map(transliterate_to_russian)"
   ]
  },
  {
   "cell_type": "code",
   "execution_count": 5,
   "metadata": {},
   "outputs": [
    {
     "data": {
      "text/html": [
       "<div>\n",
       "<style scoped>\n",
       "    .dataframe tbody tr th:only-of-type {\n",
       "        vertical-align: middle;\n",
       "    }\n",
       "\n",
       "    .dataframe tbody tr th {\n",
       "        vertical-align: top;\n",
       "    }\n",
       "\n",
       "    .dataframe thead th {\n",
       "        text-align: right;\n",
       "    }\n",
       "</style>\n",
       "<table border=\"1\" class=\"dataframe\">\n",
       "  <thead>\n",
       "    <tr style=\"text-align: right;\">\n",
       "      <th></th>\n",
       "      <th>Pinyin</th>\n",
       "      <th>Wade-Giles</th>\n",
       "      <th>Romatzyh</th>\n",
       "      <th>Palladiy</th>\n",
       "    </tr>\n",
       "  </thead>\n",
       "  <tbody>\n",
       "    <tr>\n",
       "      <th>0</th>\n",
       "      <td>аи</td>\n",
       "      <td>аи</td>\n",
       "      <td>аы</td>\n",
       "      <td>ай</td>\n",
       "    </tr>\n",
       "    <tr>\n",
       "      <th>1</th>\n",
       "      <td>аихао</td>\n",
       "      <td>аихао</td>\n",
       "      <td>аыхауо</td>\n",
       "      <td>айхао</td>\n",
       "    </tr>\n",
       "    <tr>\n",
       "      <th>2</th>\n",
       "      <td>ба</td>\n",
       "      <td>па</td>\n",
       "      <td>ба</td>\n",
       "      <td>ба</td>\n",
       "    </tr>\n",
       "    <tr>\n",
       "      <th>3</th>\n",
       "      <td>баба</td>\n",
       "      <td>паба</td>\n",
       "      <td>бахба</td>\n",
       "      <td>баба</td>\n",
       "    </tr>\n",
       "    <tr>\n",
       "      <th>4</th>\n",
       "      <td>ба</td>\n",
       "      <td>па</td>\n",
       "      <td>бах</td>\n",
       "      <td>ба</td>\n",
       "    </tr>\n",
       "    <tr>\n",
       "      <th>...</th>\n",
       "      <td>...</td>\n",
       "      <td>...</td>\n",
       "      <td>...</td>\n",
       "      <td>...</td>\n",
       "    </tr>\n",
       "    <tr>\n",
       "      <th>5155</th>\n",
       "      <td>зуи</td>\n",
       "      <td>цуи</td>\n",
       "      <td>тзуеы</td>\n",
       "      <td>цзуй</td>\n",
       "    </tr>\n",
       "    <tr>\n",
       "      <th>5156</th>\n",
       "      <td>зуие</td>\n",
       "      <td>цуие</td>\n",
       "      <td>тзуеыех</td>\n",
       "      <td>цзуйэ</td>\n",
       "    </tr>\n",
       "    <tr>\n",
       "      <th>5157</th>\n",
       "      <td>зуо</td>\n",
       "      <td>цо</td>\n",
       "      <td>тзуох</td>\n",
       "      <td>цзо</td>\n",
       "    </tr>\n",
       "    <tr>\n",
       "      <th>5158</th>\n",
       "      <td>зуофеи</td>\n",
       "      <td>цофеи</td>\n",
       "      <td>тзуохфеы</td>\n",
       "      <td>цзофэй</td>\n",
       "    </tr>\n",
       "    <tr>\n",
       "      <th>5159</th>\n",
       "      <td>зуожан</td>\n",
       "      <td>цочан</td>\n",
       "      <td>тзуохянн</td>\n",
       "      <td>цзочжань</td>\n",
       "    </tr>\n",
       "  </tbody>\n",
       "</table>\n",
       "<p>5160 rows × 4 columns</p>\n",
       "</div>"
      ],
      "text/plain": [
       "      Pinyin Wade-Giles  Romatzyh  Palladiy\n",
       "0         аи         аи        аы        ай\n",
       "1      аихао      аихао    аыхауо     айхао\n",
       "2         ба         па        ба        ба\n",
       "3       баба       паба     бахба      баба\n",
       "4         ба         па       бах        ба\n",
       "...      ...        ...       ...       ...\n",
       "5155     зуи        цуи     тзуеы      цзуй\n",
       "5156    зуие       цуие   тзуеыех     цзуйэ\n",
       "5157     зуо         цо     тзуох       цзо\n",
       "5158  зуофеи      цофеи  тзуохфеы    цзофэй\n",
       "5159  зуожан      цочан  тзуохянн  цзочжань\n",
       "\n",
       "[5160 rows x 4 columns]"
      ]
     },
     "execution_count": 5,
     "metadata": {},
     "output_type": "execute_result"
    }
   ],
   "source": [
    "df_transliterated"
   ]
  },
  {
   "cell_type": "code",
   "execution_count": 7,
   "metadata": {},
   "outputs": [],
   "source": [
    "# сохраняем\n",
    "df_transliterated.to_csv('final_chinese_dataset.csv', index=False)"
   ]
  },
  {
   "cell_type": "code",
   "execution_count": null,
   "metadata": {},
   "outputs": [],
   "source": []
  }
 ],
 "metadata": {
  "kernelspec": {
   "display_name": "Python 3",
   "language": "python",
   "name": "python3"
  },
  "language_info": {
   "codemirror_mode": {
    "name": "ipython",
    "version": 3
   },
   "file_extension": ".py",
   "mimetype": "text/x-python",
   "name": "python",
   "nbconvert_exporter": "python",
   "pygments_lexer": "ipython3",
   "version": "3.12.0"
  }
 },
 "nbformat": 4,
 "nbformat_minor": 2
}
