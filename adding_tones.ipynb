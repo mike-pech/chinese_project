{
 "cells": [
  {
   "cell_type": "code",
   "execution_count": 1,
   "metadata": {},
   "outputs": [],
   "source": [
    "import pandas as pd\n",
    "from pypinyin import pinyin, Style\n",
    "import re"
   ]
  },
  {
   "cell_type": "code",
   "execution_count": 2,
   "metadata": {},
   "outputs": [],
   "source": [
    "df = pd.read_csv('mean_result.csv')\n",
    "\n",
    "df = df[['0', '5']]\n",
    "\n",
    "def add_tones(transcription, pinyin_transcription):\n",
    "    words = transcription.split(',')\n",
    "    pinyin_words = pinyin_transcription.split(',')\n",
    "    \n",
    "    syllable_pattern = re.compile(r'[^\\W\\d_]+|\\d+')\n",
    "    \n",
    "    updated_words = []\n",
    "    \n",
    "    for m in range(len(words)):\n",
    "        cyrillic_chars = list(words[m])\n",
    "        \n",
    "        pinyin_syllables = pinyin_words[m].split()\n",
    "        \n",
    "        updated_syllables = []\n",
    "        \n",
    "        syllable_matches = syllable_pattern.findall(words[m])\n",
    "        \n",
    "        for k in range(len(syllable_matches)):\n",
    "            #Получаем начальный и конечный индексы совпадения слогов\n",
    "            start = words[m].find(syllable_matches[k])\n",
    "            end = start + len(syllable_matches[k])\n",
    "            \n",
    "            #Берем тон из слога в пиньине\n",
    "            tone = pinyin_syllables[k][-1]\n",
    "            \n",
    "            #Добавляем тон в конец слога на кириллице\n",
    "            updated_char = cyrillic_chars[end - 1] + tone\n",
    "            \n",
    "            updated_syllable = words[m][start:end-1] + updated_char\n",
    "            \n",
    "            updated_syllables.append(updated_syllable)\n",
    "        \n",
    "        updated_transcription = ''.join(updated_syllables)\n",
    "        \n",
    "        updated_words.append(updated_transcription)\n",
    "    \n",
    "    return ''.join(updated_words)\n",
    "\n",
    "#Создаем колонку с пиньинем\n",
    "df['pinyin'] = df['0'].apply(lambda x: ' '.join([''.join(syllable) for syllable in pinyin(x, style=Style.TONE3)]))\n",
    "\n",
    "df['5'] = df.apply(lambda x: add_tones(x['5'], x['pinyin']), axis=1)\n",
    "\n",
    "df = df.drop('pinyin', axis=1)\n",
    "\n",
    "df.to_csv('dataset_with_tones.csv', index=False)"
   ]
  }
 ],
 "metadata": {
  "kernelspec": {
   "display_name": "Python 3",
   "language": "python",
   "name": "python3"
  },
  "language_info": {
   "codemirror_mode": {
    "name": "ipython",
    "version": 3
   },
   "file_extension": ".py",
   "mimetype": "text/x-python",
   "name": "python",
   "nbconvert_exporter": "python",
   "pygments_lexer": "ipython3",
   "version": "3.11.4"
  }
 },
 "nbformat": 4,
 "nbformat_minor": 2
}
