{
 "cells": [
  {
   "cell_type": "code",
   "execution_count": 2,
   "metadata": {},
   "outputs": [
    {
     "name": "stdout",
     "output_type": "stream",
     "text": [
      "Note: you may need to restart the kernel to use updated packages.\n"
     ]
    }
   ],
   "source": [
    "%pip install transliterate -Uq"
   ]
  },
  {
   "cell_type": "code",
   "execution_count": 3,
   "metadata": {},
   "outputs": [],
   "source": [
    "import pandas as pd\n",
    "from transliterate import translit"
   ]
  },
  {
   "cell_type": "code",
   "execution_count": 4,
   "metadata": {},
   "outputs": [],
   "source": [
    "df = pd.read_csv('full_chinese_dataset.csv')"
   ]
  },
  {
   "cell_type": "code",
   "execution_count": 5,
   "metadata": {},
   "outputs": [],
   "source": [
    "# убираем наны\n",
    "df.isnull().sum()\n",
    "data = df.dropna()"
   ]
  },
  {
   "cell_type": "code",
   "execution_count": 6,
   "metadata": {},
   "outputs": [],
   "source": [
    "# убираем колонку с иероглифами\n",
    "data = data.drop('Chinese', axis=1)"
   ]
  },
  {
   "cell_type": "code",
   "execution_count": 7,
   "metadata": {},
   "outputs": [],
   "source": [
    "# прописываем ненужные символы\n",
    "def preprocess_text(text):\n",
    "    replacements = {\n",
    "        'ā': 'a', 'á': 'a', 'ǎ': 'a', 'à': 'a',\n",
    "        'ē': 'e', 'é': 'e', 'ě': 'e', 'è': 'e',\n",
    "        'ī': 'i', 'í': 'i', 'ǐ': 'i', 'ì': 'i',\n",
    "        'ō': 'o', 'ó': 'o', 'ǒ': 'o', 'ò': 'o',\n",
    "        'ū': 'u', 'ú': 'u', 'ǔ': 'u', 'ù': 'u',\n",
    "        'ü': 'u', '⁵': '', '⁴': '', '³': '',\n",
    "        '²': '', '¹': '', ' ': '', \"'\": ''\n",
    "    }\n",
    "\n",
    "    processed_text = ''\n",
    "    for char in text:\n",
    "        processed_text += replacements.get(char, char)\n",
    "\n",
    "    return processed_text"
   ]
  },
  {
   "cell_type": "code",
   "execution_count": 8,
   "metadata": {},
   "outputs": [],
   "source": [
    "# применяем ко всей табличке\n",
    "df_preprocessed = data.map(preprocess_text)"
   ]
  },
  {
   "cell_type": "code",
   "execution_count": 9,
   "metadata": {},
   "outputs": [],
   "source": [
    "# сохраняем\n",
    "df_preprocessed.to_csv('preprocessed_chinese_dataset.csv', index=False)"
   ]
  },
  {
   "cell_type": "code",
   "execution_count": null,
   "metadata": {},
   "outputs": [],
   "source": []
  }
 ],
 "metadata": {
  "kernelspec": {
   "display_name": "Python 3",
   "language": "python",
   "name": "python3"
  },
  "language_info": {
   "codemirror_mode": {
    "name": "ipython",
    "version": 3
   },
   "file_extension": ".py",
   "mimetype": "text/x-python",
   "name": "python",
   "nbconvert_exporter": "python",
   "pygments_lexer": "ipython3",
   "version": "3.12.0"
  }
 },
 "nbformat": 4,
 "nbformat_minor": 2
}
