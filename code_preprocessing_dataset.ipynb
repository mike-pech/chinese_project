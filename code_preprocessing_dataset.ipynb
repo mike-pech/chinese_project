{
 "cells": [
  {
   "cell_type": "code",
   "execution_count": 9,
   "metadata": {},
   "outputs": [],
   "source": [
    "import pandas as pd\n",
    "from transliterate import translit"
   ]
  },
  {
   "cell_type": "code",
   "execution_count": 10,
   "metadata": {},
   "outputs": [],
   "source": [
    "df = pd.read_csv('chinese_dataset.csv')"
   ]
  },
  {
   "cell_type": "code",
   "execution_count": 11,
   "metadata": {},
   "outputs": [],
   "source": [
    "# убираем наны\n",
    "df.isnull().sum()\n",
    "data = df.dropna()"
   ]
  },
  {
   "cell_type": "code",
   "execution_count": 12,
   "metadata": {},
   "outputs": [],
   "source": [
    "# убираем колонку с иероглифами\n",
    "data = data.drop('Chinese', axis=1)"
   ]
  },
  {
   "cell_type": "code",
   "execution_count": 13,
   "metadata": {},
   "outputs": [],
   "source": [
    "# прописываем ненужные символы\n",
    "def preprocess_text(text):\n",
    "    replacements = {\n",
    "        'ā': 'a', 'á': 'a', 'ǎ': 'a', 'à': 'a',\n",
    "        'ē': 'e', 'é': 'e', 'ě': 'e', 'è': 'e',\n",
    "        'ī': 'i', 'í': 'i', 'ǐ': 'i', 'ì': 'i',\n",
    "        'ō': 'o', 'ó': 'o', 'ǒ': 'o', 'ò': 'o',\n",
    "        'ū': 'u', 'ú': 'u', 'ǔ': 'u', 'ù': 'u',\n",
    "        'ü': 'u', '⁵': '', '⁴': '', '³': '',\n",
    "        '²': '', '¹': '', ' ': '', \"'\": ''\n",
    "    }\n",
    "\n",
    "    processed_text = ''\n",
    "    for char in text:\n",
    "        processed_text += replacements.get(char, char)\n",
    "\n",
    "    return processed_text"
   ]
  },
  {
   "cell_type": "code",
   "execution_count": 14,
   "metadata": {},
   "outputs": [
    {
     "data": {
      "text/html": [
       "<div>\n",
       "<style scoped>\n",
       "    .dataframe tbody tr th:only-of-type {\n",
       "        vertical-align: middle;\n",
       "    }\n",
       "\n",
       "    .dataframe tbody tr th {\n",
       "        vertical-align: top;\n",
       "    }\n",
       "\n",
       "    .dataframe thead th {\n",
       "        text-align: right;\n",
       "    }\n",
       "</style>\n",
       "<table border=\"1\" class=\"dataframe\">\n",
       "  <thead>\n",
       "    <tr style=\"text-align: right;\">\n",
       "      <th></th>\n",
       "      <th>Pinyin</th>\n",
       "      <th>Wade-Giles</th>\n",
       "      <th>Romatzyh</th>\n",
       "    </tr>\n",
       "  </thead>\n",
       "  <tbody>\n",
       "    <tr>\n",
       "      <th>0</th>\n",
       "      <td>ai</td>\n",
       "      <td>ai</td>\n",
       "      <td>ay</td>\n",
       "    </tr>\n",
       "    <tr>\n",
       "      <th>1</th>\n",
       "      <td>aihao</td>\n",
       "      <td>aihao</td>\n",
       "      <td>ayhaw</td>\n",
       "    </tr>\n",
       "    <tr>\n",
       "      <th>2</th>\n",
       "      <td>ba</td>\n",
       "      <td>pa</td>\n",
       "      <td>ba</td>\n",
       "    </tr>\n",
       "    <tr>\n",
       "      <th>3</th>\n",
       "      <td>baba</td>\n",
       "      <td>paba</td>\n",
       "      <td>bahba</td>\n",
       "    </tr>\n",
       "    <tr>\n",
       "      <th>4</th>\n",
       "      <td>ba</td>\n",
       "      <td>pa</td>\n",
       "      <td>bah</td>\n",
       "    </tr>\n",
       "    <tr>\n",
       "      <th>...</th>\n",
       "      <td>...</td>\n",
       "      <td>...</td>\n",
       "      <td>...</td>\n",
       "    </tr>\n",
       "    <tr>\n",
       "      <th>5159</th>\n",
       "      <td>zui</td>\n",
       "      <td>tsui</td>\n",
       "      <td>tzuey</td>\n",
       "    </tr>\n",
       "    <tr>\n",
       "      <th>5160</th>\n",
       "      <td>zuie</td>\n",
       "      <td>tsuie</td>\n",
       "      <td>tzueyeh</td>\n",
       "    </tr>\n",
       "    <tr>\n",
       "      <th>5161</th>\n",
       "      <td>zuo</td>\n",
       "      <td>tso</td>\n",
       "      <td>tzuoh</td>\n",
       "    </tr>\n",
       "    <tr>\n",
       "      <th>5162</th>\n",
       "      <td>zuofei</td>\n",
       "      <td>tsofei</td>\n",
       "      <td>tzuohfey</td>\n",
       "    </tr>\n",
       "    <tr>\n",
       "      <th>5163</th>\n",
       "      <td>zuozhan</td>\n",
       "      <td>tsochan</td>\n",
       "      <td>tzuohjann</td>\n",
       "    </tr>\n",
       "  </tbody>\n",
       "</table>\n",
       "<p>5161 rows × 3 columns</p>\n",
       "</div>"
      ],
      "text/plain": [
       "       Pinyin Wade-Giles   Romatzyh\n",
       "0          ai         ai         ay\n",
       "1       aihao      aihao      ayhaw\n",
       "2          ba         pa         ba\n",
       "3        baba       paba      bahba\n",
       "4          ba         pa        bah\n",
       "...       ...        ...        ...\n",
       "5159      zui       tsui      tzuey\n",
       "5160     zuie      tsuie    tzueyeh\n",
       "5161      zuo        tso      tzuoh\n",
       "5162   zuofei     tsofei   tzuohfey\n",
       "5163  zuozhan    tsochan  tzuohjann\n",
       "\n",
       "[5161 rows x 3 columns]"
      ]
     },
     "execution_count": 14,
     "metadata": {},
     "output_type": "execute_result"
    }
   ],
   "source": [
    "# применяем ко всей табличке\n",
    "df_preprocessed = data.map(preprocess_text)"
   ]
  },
  {
   "cell_type": "code",
   "execution_count": 15,
   "metadata": {},
   "outputs": [],
   "source": [
    "# сохраняем\n",
    "df_preprocessed.to_csv('preprocessed_chinese_dataset.csv', index=False)"
   ]
  }
 ],
 "metadata": {
  "kernelspec": {
   "display_name": "Python 3",
   "language": "python",
   "name": "python3"
  },
  "language_info": {
   "codemirror_mode": {
    "name": "ipython",
    "version": 3
   },
   "file_extension": ".py",
   "mimetype": "text/x-python",
   "name": "python",
   "nbconvert_exporter": "python",
   "pygments_lexer": "ipython3",
   "version": "3.11.5"
  }
 },
 "nbformat": 4,
 "nbformat_minor": 2
}
