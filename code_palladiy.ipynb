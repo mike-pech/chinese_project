{
 "cells": [
  {
   "cell_type": "code",
   "execution_count": 1,
   "metadata": {},
   "outputs": [
    {
     "name": "stdout",
     "output_type": "stream",
     "text": [
      "Note: you may need to restart the kernel to use updated packages.\n",
      "Note: you may need to restart the kernel to use updated packages.\n"
     ]
    }
   ],
   "source": [
    "%pip install pinyin -Uq\n",
    "%pip install beautifulsoup4 -Uq"
   ]
  },
  {
   "cell_type": "markdown",
   "metadata": {},
   "source": [
    "### `Делаем пинь инь красивым чтоб его можно было переделать в палладий` <br>\n",
    "То есть записываем без тонов, + транскрипция каждого иероглифа через пробел"
   ]
  },
  {
   "cell_type": "code",
   "execution_count": 2,
   "metadata": {},
   "outputs": [],
   "source": [
    "# для этого есть библиотека пинь инь\n",
    "import pandas as pd\n",
    "import pinyin"
   ]
  },
  {
   "cell_type": "code",
   "execution_count": 3,
   "metadata": {},
   "outputs": [],
   "source": [
    "df = pd.read_csv('chinese_dataset.csv')"
   ]
  },
  {
   "cell_type": "code",
   "execution_count": 4,
   "metadata": {},
   "outputs": [],
   "source": [
    "# ставим подходящие параметры\n",
    "def preprocess_pinyin(data):\n",
    "    for i in range(len(data)):\n",
    "        data[i] = pinyin.get(data[i], format=\"strip\", delimiter=\" \")\n",
    "    return data"
   ]
  },
  {
   "cell_type": "code",
   "execution_count": 5,
   "metadata": {},
   "outputs": [],
   "source": [
    "df_pinyin = df.copy()\n",
    "df_pinyin['Pinyin'] = preprocess_pinyin(df['Chinese'])"
   ]
  },
  {
   "cell_type": "code",
   "execution_count": 6,
   "metadata": {},
   "outputs": [
    {
     "data": {
      "text/html": [
       "<div>\n",
       "<style scoped>\n",
       "    .dataframe tbody tr th:only-of-type {\n",
       "        vertical-align: middle;\n",
       "    }\n",
       "\n",
       "    .dataframe tbody tr th {\n",
       "        vertical-align: top;\n",
       "    }\n",
       "\n",
       "    .dataframe thead th {\n",
       "        text-align: right;\n",
       "    }\n",
       "</style>\n",
       "<table border=\"1\" class=\"dataframe\">\n",
       "  <thead>\n",
       "    <tr style=\"text-align: right;\">\n",
       "      <th></th>\n",
       "      <th>Chinese</th>\n",
       "      <th>Pinyin</th>\n",
       "      <th>Wade-Giles</th>\n",
       "      <th>Romatzyh</th>\n",
       "    </tr>\n",
       "  </thead>\n",
       "  <tbody>\n",
       "    <tr>\n",
       "      <th>0</th>\n",
       "      <td>爱</td>\n",
       "      <td>ai</td>\n",
       "      <td>ai⁴</td>\n",
       "      <td>ay</td>\n",
       "    </tr>\n",
       "    <tr>\n",
       "      <th>1</th>\n",
       "      <td>爱好</td>\n",
       "      <td>ai hao</td>\n",
       "      <td>ai⁴ hao⁴</td>\n",
       "      <td>ay haw</td>\n",
       "    </tr>\n",
       "    <tr>\n",
       "      <th>2</th>\n",
       "      <td>八</td>\n",
       "      <td>ba</td>\n",
       "      <td>pa¹</td>\n",
       "      <td>ba</td>\n",
       "    </tr>\n",
       "    <tr>\n",
       "      <th>3</th>\n",
       "      <td>爸爸</td>\n",
       "      <td>ba ba</td>\n",
       "      <td>pa⁴ ba</td>\n",
       "      <td>bah ba</td>\n",
       "    </tr>\n",
       "    <tr>\n",
       "      <th>4</th>\n",
       "      <td>爸</td>\n",
       "      <td>ba</td>\n",
       "      <td>pa⁴</td>\n",
       "      <td>bah</td>\n",
       "    </tr>\n",
       "    <tr>\n",
       "      <th>...</th>\n",
       "      <td>...</td>\n",
       "      <td>...</td>\n",
       "      <td>...</td>\n",
       "      <td>...</td>\n",
       "    </tr>\n",
       "    <tr>\n",
       "      <th>5159</th>\n",
       "      <td>罪</td>\n",
       "      <td>zui</td>\n",
       "      <td>tsui⁴</td>\n",
       "      <td>tzuey</td>\n",
       "    </tr>\n",
       "    <tr>\n",
       "      <th>5160</th>\n",
       "      <td>罪恶</td>\n",
       "      <td>zui e</td>\n",
       "      <td>tsui⁴ e⁴</td>\n",
       "      <td>tzuey eh</td>\n",
       "    </tr>\n",
       "    <tr>\n",
       "      <th>5161</th>\n",
       "      <td>作</td>\n",
       "      <td>zuo</td>\n",
       "      <td>tso⁴</td>\n",
       "      <td>tzuoh</td>\n",
       "    </tr>\n",
       "    <tr>\n",
       "      <th>5162</th>\n",
       "      <td>作废</td>\n",
       "      <td>zuo fei</td>\n",
       "      <td>tso⁴ fei⁴</td>\n",
       "      <td>tzuoh fey</td>\n",
       "    </tr>\n",
       "    <tr>\n",
       "      <th>5163</th>\n",
       "      <td>作战</td>\n",
       "      <td>zuo zhan</td>\n",
       "      <td>tso⁴ chan⁴</td>\n",
       "      <td>tzuoh jann</td>\n",
       "    </tr>\n",
       "  </tbody>\n",
       "</table>\n",
       "<p>5164 rows × 4 columns</p>\n",
       "</div>"
      ],
      "text/plain": [
       "     Chinese    Pinyin  Wade-Giles    Romatzyh\n",
       "0          爱        ai         ai⁴          ay\n",
       "1         爱好    ai hao    ai⁴ hao⁴      ay haw\n",
       "2          八        ba         pa¹          ba\n",
       "3         爸爸     ba ba      pa⁴ ba      bah ba\n",
       "4          爸        ba         pa⁴         bah\n",
       "...      ...       ...         ...         ...\n",
       "5159       罪       zui       tsui⁴       tzuey\n",
       "5160      罪恶     zui e    tsui⁴ e⁴    tzuey eh\n",
       "5161       作       zuo        tso⁴       tzuoh\n",
       "5162      作废   zuo fei   tso⁴ fei⁴   tzuoh fey\n",
       "5163      作战  zuo zhan  tso⁴ chan⁴  tzuoh jann\n",
       "\n",
       "[5164 rows x 4 columns]"
      ]
     },
     "execution_count": 6,
     "metadata": {},
     "output_type": "execute_result"
    }
   ],
   "source": [
    "df_pinyin"
   ]
  },
  {
   "cell_type": "code",
   "execution_count": 7,
   "metadata": {},
   "outputs": [],
   "source": [
    "# сохраняем\n",
    "df_pinyin.to_csv('beautiful_pinyin.csv', index=False)"
   ]
  },
  {
   "cell_type": "markdown",
   "metadata": {},
   "source": [
    "### `Парсинг` <br>\n",
    "Нужно запарсить табличку пиньинь - палладий.\n",
    "Собранная табличка будет сетом правил, через который мы из пиньиня добудем палладий."
   ]
  },
  {
   "cell_type": "code",
   "execution_count": 8,
   "metadata": {},
   "outputs": [],
   "source": [
    "import re\n",
    "import requests\n",
    "from bs4 import BeautifulSoup"
   ]
  },
  {
   "cell_type": "code",
   "execution_count": 9,
   "metadata": {},
   "outputs": [],
   "source": [
    "url = \"https://cidian.ru/palladius\"\n",
    "response = requests.get(url)\n",
    "soup = BeautifulSoup(response.text, 'html.parser')\n",
    "table = soup.find('table')"
   ]
  },
  {
   "cell_type": "code",
   "execution_count": 10,
   "metadata": {},
   "outputs": [],
   "source": [
    "data = []\n",
    "for row in table.find_all('tr')[1:]:  # скипаем заголовки\n",
    "    columns = row.find_all('td')\n",
    "    \n",
    "    for td in columns:\n",
    "        parts = td.text.strip().split(\" — \") # на сайте значения пиньинь-палладий внутри <td> разделены \"—\"\n",
    "        if len(parts) == 2:\n",
    "            data.append([\n",
    "                re.sub(r\"(, \\w+)\", \"\", parts[0].strip()), \n",
    "                re.sub(r\" \\(.+?\\)\", \"\", parts[1].strip())])"
   ]
  },
  {
   "cell_type": "code",
   "execution_count": 11,
   "metadata": {},
   "outputs": [],
   "source": [
    "# сохраняем\n",
    "df = pd.DataFrame(data, columns=['Pinyin', 'Palladiy'])\n",
    "df.to_csv('pinyin_palladiy.csv', index=False)"
   ]
  },
  {
   "cell_type": "code",
   "execution_count": 12,
   "metadata": {},
   "outputs": [
    {
     "data": {
      "text/html": [
       "<div>\n",
       "<style scoped>\n",
       "    .dataframe tbody tr th:only-of-type {\n",
       "        vertical-align: middle;\n",
       "    }\n",
       "\n",
       "    .dataframe tbody tr th {\n",
       "        vertical-align: top;\n",
       "    }\n",
       "\n",
       "    .dataframe thead th {\n",
       "        text-align: right;\n",
       "    }\n",
       "</style>\n",
       "<table border=\"1\" class=\"dataframe\">\n",
       "  <thead>\n",
       "    <tr style=\"text-align: right;\">\n",
       "      <th></th>\n",
       "      <th>Pinyin</th>\n",
       "      <th>Palladiy</th>\n",
       "    </tr>\n",
       "  </thead>\n",
       "  <tbody>\n",
       "    <tr>\n",
       "      <th>0</th>\n",
       "      <td>a</td>\n",
       "      <td>а</td>\n",
       "    </tr>\n",
       "    <tr>\n",
       "      <th>1</th>\n",
       "      <td>ai</td>\n",
       "      <td>ай</td>\n",
       "    </tr>\n",
       "    <tr>\n",
       "      <th>2</th>\n",
       "      <td>an</td>\n",
       "      <td>ань</td>\n",
       "    </tr>\n",
       "    <tr>\n",
       "      <th>3</th>\n",
       "      <td>ang</td>\n",
       "      <td>ан</td>\n",
       "    </tr>\n",
       "    <tr>\n",
       "      <th>4</th>\n",
       "      <td>ao</td>\n",
       "      <td>ао</td>\n",
       "    </tr>\n",
       "    <tr>\n",
       "      <th>...</th>\n",
       "      <td>...</td>\n",
       "      <td>...</td>\n",
       "    </tr>\n",
       "    <tr>\n",
       "      <th>428</th>\n",
       "      <td>zhuan</td>\n",
       "      <td>чжуань</td>\n",
       "    </tr>\n",
       "    <tr>\n",
       "      <th>429</th>\n",
       "      <td>zhuang</td>\n",
       "      <td>чжуан</td>\n",
       "    </tr>\n",
       "    <tr>\n",
       "      <th>430</th>\n",
       "      <td>zhui</td>\n",
       "      <td>чжуй</td>\n",
       "    </tr>\n",
       "    <tr>\n",
       "      <th>431</th>\n",
       "      <td>zhun</td>\n",
       "      <td>чжунь</td>\n",
       "    </tr>\n",
       "    <tr>\n",
       "      <th>432</th>\n",
       "      <td>zhuo</td>\n",
       "      <td>чжо</td>\n",
       "    </tr>\n",
       "  </tbody>\n",
       "</table>\n",
       "<p>433 rows × 2 columns</p>\n",
       "</div>"
      ],
      "text/plain": [
       "     Pinyin Palladiy\n",
       "0         a        а\n",
       "1        ai       ай\n",
       "2        an      ань\n",
       "3       ang       ан\n",
       "4        ao       ао\n",
       "..      ...      ...\n",
       "428   zhuan   чжуань\n",
       "429  zhuang    чжуан\n",
       "430    zhui     чжуй\n",
       "431    zhun    чжунь\n",
       "432    zhuo      чжо\n",
       "\n",
       "[433 rows x 2 columns]"
      ]
     },
     "execution_count": 12,
     "metadata": {},
     "output_type": "execute_result"
    }
   ],
   "source": [
    "palladiy_rules = pd.read_csv('pinyin_palladiy.csv')\n",
    "palladiy_rules"
   ]
  },
  {
   "cell_type": "markdown",
   "metadata": {},
   "source": [
    "### `Преобразуем` уже preprocessed под нужный формат `пиньинь по собранным правилам`"
   ]
  },
  {
   "cell_type": "code",
   "execution_count": 13,
   "metadata": {},
   "outputs": [],
   "source": [
    "pinyin = pd.read_csv('beautiful_pinyin.csv')\n",
    "rules = pd.read_csv('pinyin_palladiy.csv')\n",
    "pinyin['Palladiy'] = [list() for _ in range(len(pinyin))]"
   ]
  },
  {
   "cell_type": "code",
   "execution_count": 14,
   "metadata": {},
   "outputs": [],
   "source": [
    "# токенайзер\n",
    "def token(text):\n",
    "    text = str(text)\n",
    "    words = text.split()\n",
    "    return words"
   ]
  },
  {
   "cell_type": "code",
   "execution_count": 15,
   "metadata": {},
   "outputs": [],
   "source": [
    "pinyin['Pinyin'] = pinyin['Pinyin'].apply(token)"
   ]
  },
  {
   "cell_type": "code",
   "execution_count": 16,
   "metadata": {},
   "outputs": [],
   "source": [
    "for row in range(len(pinyin['Pinyin'])):\n",
    "    for word in pinyin['Pinyin'][row]:\n",
    "        for r in range(len(rules['Pinyin'])):\n",
    "            if word == rules['Pinyin'][r]:\n",
    "                pinyin['Palladiy'][row].append(rules['Palladiy'][r])"
   ]
  },
  {
   "cell_type": "code",
   "execution_count": 17,
   "metadata": {},
   "outputs": [],
   "source": [
    "def convert_list_to_string(list):\n",
    "    return ' '.join(list)"
   ]
  },
  {
   "cell_type": "code",
   "execution_count": 18,
   "metadata": {},
   "outputs": [
    {
     "data": {
      "text/html": [
       "<div>\n",
       "<style scoped>\n",
       "    .dataframe tbody tr th:only-of-type {\n",
       "        vertical-align: middle;\n",
       "    }\n",
       "\n",
       "    .dataframe tbody tr th {\n",
       "        vertical-align: top;\n",
       "    }\n",
       "\n",
       "    .dataframe thead th {\n",
       "        text-align: right;\n",
       "    }\n",
       "</style>\n",
       "<table border=\"1\" class=\"dataframe\">\n",
       "  <thead>\n",
       "    <tr style=\"text-align: right;\">\n",
       "      <th></th>\n",
       "      <th>Chinese</th>\n",
       "      <th>Pinyin</th>\n",
       "      <th>Wade-Giles</th>\n",
       "      <th>Romatzyh</th>\n",
       "      <th>Palladiy</th>\n",
       "    </tr>\n",
       "  </thead>\n",
       "  <tbody>\n",
       "    <tr>\n",
       "      <th>0</th>\n",
       "      <td>爱</td>\n",
       "      <td>ai</td>\n",
       "      <td>ai⁴</td>\n",
       "      <td>ay</td>\n",
       "      <td>ай</td>\n",
       "    </tr>\n",
       "    <tr>\n",
       "      <th>1</th>\n",
       "      <td>爱好</td>\n",
       "      <td>ai hao</td>\n",
       "      <td>ai⁴ hao⁴</td>\n",
       "      <td>ay haw</td>\n",
       "      <td>ай хао</td>\n",
       "    </tr>\n",
       "    <tr>\n",
       "      <th>2</th>\n",
       "      <td>八</td>\n",
       "      <td>ba</td>\n",
       "      <td>pa¹</td>\n",
       "      <td>ba</td>\n",
       "      <td>ба</td>\n",
       "    </tr>\n",
       "    <tr>\n",
       "      <th>3</th>\n",
       "      <td>爸爸</td>\n",
       "      <td>ba ba</td>\n",
       "      <td>pa⁴ ba</td>\n",
       "      <td>bah ba</td>\n",
       "      <td>ба ба</td>\n",
       "    </tr>\n",
       "    <tr>\n",
       "      <th>4</th>\n",
       "      <td>爸</td>\n",
       "      <td>ba</td>\n",
       "      <td>pa⁴</td>\n",
       "      <td>bah</td>\n",
       "      <td>ба</td>\n",
       "    </tr>\n",
       "    <tr>\n",
       "      <th>...</th>\n",
       "      <td>...</td>\n",
       "      <td>...</td>\n",
       "      <td>...</td>\n",
       "      <td>...</td>\n",
       "      <td>...</td>\n",
       "    </tr>\n",
       "    <tr>\n",
       "      <th>5159</th>\n",
       "      <td>罪</td>\n",
       "      <td>zui</td>\n",
       "      <td>tsui⁴</td>\n",
       "      <td>tzuey</td>\n",
       "      <td>цзуй</td>\n",
       "    </tr>\n",
       "    <tr>\n",
       "      <th>5160</th>\n",
       "      <td>罪恶</td>\n",
       "      <td>zui e</td>\n",
       "      <td>tsui⁴ e⁴</td>\n",
       "      <td>tzuey eh</td>\n",
       "      <td>цзуй э</td>\n",
       "    </tr>\n",
       "    <tr>\n",
       "      <th>5161</th>\n",
       "      <td>作</td>\n",
       "      <td>zuo</td>\n",
       "      <td>tso⁴</td>\n",
       "      <td>tzuoh</td>\n",
       "      <td>цзо</td>\n",
       "    </tr>\n",
       "    <tr>\n",
       "      <th>5162</th>\n",
       "      <td>作废</td>\n",
       "      <td>zuo fei</td>\n",
       "      <td>tso⁴ fei⁴</td>\n",
       "      <td>tzuoh fey</td>\n",
       "      <td>цзо фэй</td>\n",
       "    </tr>\n",
       "    <tr>\n",
       "      <th>5163</th>\n",
       "      <td>作战</td>\n",
       "      <td>zuo zhan</td>\n",
       "      <td>tso⁴ chan⁴</td>\n",
       "      <td>tzuoh jann</td>\n",
       "      <td>цзо чжань</td>\n",
       "    </tr>\n",
       "  </tbody>\n",
       "</table>\n",
       "<p>5164 rows × 5 columns</p>\n",
       "</div>"
      ],
      "text/plain": [
       "     Chinese    Pinyin  Wade-Giles    Romatzyh   Palladiy\n",
       "0          爱        ai         ai⁴          ay         ай\n",
       "1         爱好    ai hao    ai⁴ hao⁴      ay haw     ай хао\n",
       "2          八        ba         pa¹          ba         ба\n",
       "3         爸爸     ba ba      pa⁴ ba      bah ba      ба ба\n",
       "4          爸        ba         pa⁴         bah         ба\n",
       "...      ...       ...         ...         ...        ...\n",
       "5159       罪       zui       tsui⁴       tzuey       цзуй\n",
       "5160      罪恶     zui e    tsui⁴ e⁴    tzuey eh     цзуй э\n",
       "5161       作       zuo        tso⁴       tzuoh        цзо\n",
       "5162      作废   zuo fei   tso⁴ fei⁴   tzuoh fey    цзо фэй\n",
       "5163      作战  zuo zhan  tso⁴ chan⁴  tzuoh jann  цзо чжань\n",
       "\n",
       "[5164 rows x 5 columns]"
      ]
     },
     "execution_count": 18,
     "metadata": {},
     "output_type": "execute_result"
    }
   ],
   "source": [
    "pinyin['Pinyin'] = pinyin['Pinyin'].apply(convert_list_to_string)\n",
    "pinyin['Palladiy'] = pinyin['Palladiy'].apply(convert_list_to_string)\n",
    "pinyin"
   ]
  },
  {
   "cell_type": "code",
   "execution_count": 19,
   "metadata": {},
   "outputs": [],
   "source": [
    "# сохраняем\n",
    "pinyin.to_csv('full_chinese_dataset.csv', index=False)"
   ]
  },
  {
   "cell_type": "code",
   "execution_count": null,
   "metadata": {},
   "outputs": [],
   "source": []
  }
 ],
 "metadata": {
  "kernelspec": {
   "display_name": "Python 3 (ipykernel)",
   "language": "python",
   "name": "python3"
  },
  "language_info": {
   "codemirror_mode": {
    "name": "ipython",
    "version": 3
   },
   "file_extension": ".py",
   "mimetype": "text/x-python",
   "name": "python",
   "nbconvert_exporter": "python",
   "pygments_lexer": "ipython3",
   "version": "3.12.0"
  }
 },
 "nbformat": 4,
 "nbformat_minor": 4
}
