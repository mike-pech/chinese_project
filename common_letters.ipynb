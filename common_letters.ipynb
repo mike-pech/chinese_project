{
 "cells": [
  {
   "cell_type": "code",
   "execution_count": 3,
   "id": "9e3a1d5d-6845-4882-81d1-30c74c720a72",
   "metadata": {},
   "outputs": [],
   "source": [
    "from collections import Counter"
   ]
  },
  {
   "cell_type": "markdown",
   "id": "12f7a4f4",
   "metadata": {},
   "source": [
    "Версия для слов разной длины:"
   ]
  },
  {
   "cell_type": "code",
   "execution_count": 16,
   "id": "a7905de2",
   "metadata": {},
   "outputs": [],
   "source": [
    "def preprocess(entries: list) -> list:\n",
    "    # Токенизация через пробелы\n",
    "    tokenized = [entry.split() for entry in entries]\n",
    "    # Уравнивание списков токенов по количеству элементов\n",
    "    max_token_number = max([len(token_list) for token_list in tokenized])\n",
    "    for token_list in tokenized:\n",
    "        for i in range(max_token_number - len(token_list)):\n",
    "            token_list.append(\" \")\n",
    "    # Сортировка токенов в отдельные списки по их порядку\n",
    "    tokenized_sorted = [\n",
    "        [token[i] for token in tokenized] for i in range(len(tokenized[0]))]\n",
    "    # print(tokenized)\n",
    "\n",
    "    return tokenized_sorted\n",
    "\n",
    "def mean_text_value(entries: list) -> str:\n",
    "    if not entries:\n",
    "        return \"\"\n",
    "\n",
    "    tokenized_sorted = preprocess(entries)\n",
    "\n",
    "    average_text = []\n",
    "\n",
    "    for token_variations in tokenized_sorted:\n",
    "        average_token_length = round(\n",
    "            sum(len(token) for token in token_variations) / len(token_variations))\n",
    "\n",
    "        average_token = \"\"\n",
    "\n",
    "        for i in range(average_token_length):\n",
    "            characters_at_position = [\n",
    "                variation[i] if i < len(variation) else \"\" for variation in token_variations]\n",
    "            # print(characters_at_position)\n",
    "            # print(i)\n",
    "        \n",
    "            # if not characters_at_position[i]:\n",
    "            #     characters_at_position[i] = Counter(characters_at_position).most_common(2)[1][0]\n",
    "\n",
    "            most_common_character, _ = Counter(characters_at_position).most_common(1)[0]\n",
    "            average_token += most_common_character\n",
    "        \n",
    "        average_text.append(average_token)\n",
    "\n",
    "    return \" \".join(average_text)"
   ]
  },
  {
   "cell_type": "code",
   "execution_count": 17,
   "id": "96d8ec50",
   "metadata": {},
   "outputs": [
    {
     "name": "stdout",
     "output_type": "stream",
     "text": [
      "TESTS:\n",
      "\n",
      "вег\n",
      "бие\n",
      "ган\n",
      "бие жень\n",
      "хан тзы\n",
      "ченг шу\n",
      "суан тиан ку ла\n",
      "чуанг\n",
      "нан хаи р\n",
      "…йи    \n"
     ]
    }
   ],
   "source": [
    "TEST_TEXTS = [[\"виг\", \"век\", \"пег\"],                            # виг\n",
    "              [\"бие\", \"пиех\", \"бые\", \"бе\"],                     # бие\n",
    "              [\"ган\", \"кан\", \"ган\", \"гань\"],                    # ган\n",
    "              [\"бие рен\", \"пиех жэнь\", \"бые жэнь\", \"бе жень\"],  # бие жэ(е?)нь\n",
    "              [\"хан зи\", \"хан тзу\", \"ханн тзых\", \"хань цзы\"],   # хан тзы\n",
    "              [\"женг шу\", \"ченг шу\", \"йенк шу\", \"чжэн шу\"],     # ченг шу\n",
    "              [\"суан тиан ку ла\", \"суан тиен ку ла\",\"суан тыан куу лах\", \"суань тянь ку ла\"],\n",
    "                                                                # суан тиан ку ла\n",
    "              ['чуанг', 'чуанг', 'чуоанг', 'чуан'],             # чуанг\n",
    "              ['нан хаи ер', 'нан хаи р', 'нан хаир р', 'хай эр'],\n",
    "              ['… йи ле', '…йиле', '…йиле', 'цзи лэ']]\n",
    "print(\"TESTS:\\n\")\n",
    "for sample in TEST_TEXTS:\n",
    "    print(mean_text_value(sample))"
   ]
  },
  {
   "cell_type": "code",
   "execution_count": null,
   "id": "7c2a1137",
   "metadata": {},
   "outputs": [],
   "source": []
  }
 ],
 "metadata": {
  "kernelspec": {
   "display_name": "Python 3 (ipykernel)",
   "language": "python",
   "name": "python3"
  },
  "language_info": {
   "codemirror_mode": {
    "name": "ipython",
    "version": 3
   },
   "file_extension": ".py",
   "mimetype": "text/x-python",
   "name": "python",
   "nbconvert_exporter": "python",
   "pygments_lexer": "ipython3",
   "version": "3.12.0"
  }
 },
 "nbformat": 4,
 "nbformat_minor": 5
}
