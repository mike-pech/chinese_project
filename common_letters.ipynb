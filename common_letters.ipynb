{
 "cells": [
  {
   "cell_type": "code",
   "execution_count": 1,
   "id": "9e3a1d5d-6845-4882-81d1-30c74c720a72",
   "metadata": {},
   "outputs": [],
   "source": [
    "from collections import Counter"
   ]
  },
  {
   "cell_type": "code",
   "execution_count": 2,
   "id": "ec1eb05f-1110-4b67-ac7e-4a1e1b6e7525",
   "metadata": {},
   "outputs": [],
   "source": [
    "def calculate_common_text(texts):\n",
    "    if not texts:\n",
    "        return \"\"\n",
    "    # при условии что все тексты одинаковой длины, set length to one of the sample's text length\n",
    "    text_length = len(texts[0])\n",
    "    # пустой стринг для записи итогового слова\n",
    "    average_word = \"\"\n",
    "\n",
    "    # проходимся по каждой буковке\n",
    "    for i in range(text_length):\n",
    "        # изымаем буковку из каждого слова\n",
    "        characters_at_position = [text[i] for text in texts]\n",
    "        # считаем самую повторяющуюся букву\n",
    "        most_common_letter, _ = Counter(characters_at_position).most_common(1)[0]\n",
    "        # собираем полученные частые буковки в одно слово\n",
    "        average_word += most_common_letter\n",
    "    return average_word"
   ]
  },
  {
   "cell_type": "code",
   "execution_count": 3,
   "id": "7b3b4bdf-a52b-40f4-906f-bc04219633a0",
   "metadata": {},
   "outputs": [
    {
     "name": "stdout",
     "output_type": "stream",
     "text": [
      "вег\n"
     ]
    }
   ],
   "source": [
    "texts = [\"виг\", \"век\", \"пег\"]\n",
    "result = calculate_common_text(texts)\n",
    "print(result)"
   ]
  }
 ],
 "metadata": {
  "kernelspec": {
   "display_name": "Python 3 (ipykernel)",
   "language": "python",
   "name": "python3"
  },
  "language_info": {
   "codemirror_mode": {
    "name": "ipython",
    "version": 3
   },
   "file_extension": ".py",
   "mimetype": "text/x-python",
   "name": "python",
   "nbconvert_exporter": "python",
   "pygments_lexer": "ipython3",
   "version": "3.10.12"
  }
 },
 "nbformat": 4,
 "nbformat_minor": 5
}
