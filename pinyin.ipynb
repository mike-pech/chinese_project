{
 "cells": [
  {
   "cell_type": "code",
   "execution_count": 1,
   "metadata": {},
   "outputs": [],
   "source": [
    "from selenium import webdriver\n",
    "from selenium.webdriver.firefox.options import Options\n",
    "from selenium.webdriver.common.by import By\n",
    "from selenium.webdriver.support.wait import WebDriverWait\n",
    "from selenium.webdriver.support import expected_conditions as EC\n",
    "import pandas as pd\n",
    "\n",
    "import time"
   ]
  },
  {
   "cell_type": "code",
   "execution_count": 23,
   "metadata": {},
   "outputs": [],
   "source": [
    "# PATH = \"C:\\\\Users\\\\Skelet0N_0FF\\\\Desktop\\\\parsing\\\\driver\\\\geckodriver.exe\"\n",
    "options = Options()\n",
    "options.headless = True\n",
    "driver = webdriver.Firefox(options=options)\n",
    "\n",
    "try:\n",
    "    driver.get(\"https://mandarinbean.com/new-hsk-1-word-list/\")\n",
    "    headers = [header.get_attribute(\"innerHTML\") for header in driver.find_elements(By.TAG_NAME, \"strong\")]\n",
    "    final_data = pd.DataFrame(columns=headers)\n",
    "    def get_table(webpage):     # Берёт страницу и собирает с неё все элементы таблицы (в тегах <td>) в датафрейм\n",
    "        driver.get(webpage)\n",
    "        element = WebDriverWait(driver, 10).until(          # Ожидание прогрузки элементов в тегах <td>\n",
    "            EC.presence_of_element_located((By.TAG_NAME, \"td\"))\n",
    "        )\n",
    "        temp_data = [value.get_attribute(\"innerHTML\") for value in driver.find_elements(By.TAG_NAME, \"td\")]\n",
    "        data = []\n",
    "        for i in range(4, len(temp_data), 4):         # Не уверен, что написал эту штуку правильно ПРОВЕРЬ\n",
    "            data.append([td.replace(\"&nbsp;\", \" \") for td in temp_data[i-4:i]])\n",
    "        return pd.DataFrame(data=data, columns=headers)\n",
    "\n",
    "    for i in range(1, 4):\n",
    "        final_data = pd.concat(objs=[final_data, get_table(f\"https://mandarinbean.com/new-hsk-{i}-word-list/\")]) \n",
    "        \n",
    "    final_data.drop(labels=\"No\", axis=1, inplace=True)\n",
    "    final_data.to_csv(path_or_buf=\".\\\\pinyin.csv\", index=False)\n",
    "except Exception as e:\n",
    "    print(f\"{e}\\n\\nThe process will terminate in 10 seconds...\")\n",
    "    time.sleep(10)\n",
    "finally:\n",
    "    driver.close()\n",
    "    driver.quit()"
   ]
  },
  {
   "cell_type": "code",
   "execution_count": 24,
   "metadata": {},
   "outputs": [
    {
     "data": {
      "text/html": [
       "<div>\n",
       "<style scoped>\n",
       "    .dataframe tbody tr th:only-of-type {\n",
       "        vertical-align: middle;\n",
       "    }\n",
       "\n",
       "    .dataframe tbody tr th {\n",
       "        vertical-align: top;\n",
       "    }\n",
       "\n",
       "    .dataframe thead th {\n",
       "        text-align: right;\n",
       "    }\n",
       "</style>\n",
       "<table border=\"1\" class=\"dataframe\">\n",
       "  <thead>\n",
       "    <tr style=\"text-align: right;\">\n",
       "      <th></th>\n",
       "      <th>Chinese</th>\n",
       "      <th>Pinyin</th>\n",
       "      <th>English</th>\n",
       "    </tr>\n",
       "  </thead>\n",
       "  <tbody>\n",
       "    <tr>\n",
       "      <th>0</th>\n",
       "      <td>爱</td>\n",
       "      <td>ài</td>\n",
       "      <td>love</td>\n",
       "    </tr>\n",
       "    <tr>\n",
       "      <th>1</th>\n",
       "      <td>爱好</td>\n",
       "      <td>ài hào</td>\n",
       "      <td>hobby</td>\n",
       "    </tr>\n",
       "    <tr>\n",
       "      <th>2</th>\n",
       "      <td>八</td>\n",
       "      <td>bā</td>\n",
       "      <td>eight</td>\n",
       "    </tr>\n",
       "    <tr>\n",
       "      <th>3</th>\n",
       "      <td>爸爸｜爸</td>\n",
       "      <td>bàba ｜ bà</td>\n",
       "      <td>dad</td>\n",
       "    </tr>\n",
       "    <tr>\n",
       "      <th>4</th>\n",
       "      <td>吧</td>\n",
       "      <td>ba</td>\n",
       "      <td>(interjection particle)</td>\n",
       "    </tr>\n",
       "  </tbody>\n",
       "</table>\n",
       "</div>"
      ],
      "text/plain": [
       "  Chinese     Pinyin                  English\n",
       "0       爱         ài                     love\n",
       "1      爱好     ài hào                    hobby\n",
       "2       八         bā                    eight\n",
       "3    爸爸｜爸  bàba ｜ bà                      dad\n",
       "4       吧         ba  (interjection particle)"
      ]
     },
     "execution_count": 24,
     "metadata": {},
     "output_type": "execute_result"
    }
   ],
   "source": [
    "data = pd.read_csv(\"./pinyin.csv\")\n",
    "data.head()"
   ]
  },
  {
   "cell_type": "code",
   "execution_count": null,
   "metadata": {},
   "outputs": [],
   "source": []
  }
 ],
 "metadata": {
  "kernelspec": {
   "display_name": "Python 3",
   "language": "python",
   "name": "python3"
  },
  "language_info": {
   "codemirror_mode": {
    "name": "ipython",
    "version": 3
   },
   "file_extension": ".py",
   "mimetype": "text/x-python",
   "name": "python",
   "nbconvert_exporter": "python",
   "pygments_lexer": "ipython3",
   "version": "3.12.0"
  }
 },
 "nbformat": 4,
 "nbformat_minor": 2
}
