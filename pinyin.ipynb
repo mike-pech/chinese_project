{
 "cells": [
  {
   "cell_type": "code",
   "execution_count": 9,
   "metadata": {},
   "outputs": [],
   "source": [
    "from selenium import webdriver\n",
    "from selenium.webdriver.chrome.options import Options\n",
    "from selenium.webdriver.common.keys import Keys\n",
    "from selenium.webdriver.common.by import By\n",
    "from selenium.webdriver.support.wait import WebDriverWait\n",
    "from selenium.webdriver.support import expected_conditions as EC\n",
    "import pandas as pd\n",
    "\n",
    "import re\n",
    "import time\n",
    "\n",
    "rm_parenthesis = re.compile(r\"\\（.*?\\）|\\（ .*? \\）|\\(.*?\\)|\\( .*? \\)\")"
   ]
  },
  {
   "cell_type": "markdown",
   "metadata": {},
   "source": [
    "## Получение датасета с пиньинем"
   ]
  },
  {
   "cell_type": "code",
   "execution_count": 2,
   "metadata": {},
   "outputs": [],
   "source": [
    "options = Options()\n",
    "options.headless = True\n",
    "driver = webdriver.Firefox(options=options)\n",
    "\n",
    "try:\n",
    "    driver.get(\"https://mandarinbean.com/new-hsk-1-word-list/\")\n",
    "    headers = [header.get_attribute(\"innerHTML\") for header in driver.find_elements(By.TAG_NAME, \"strong\")]\n",
    "    final_data = pd.DataFrame(columns=headers)\n",
    "    temp_data = [value.get_attribute(\"innerHTML\") for value in driver.find_elements(By.TAG_NAME, \"td\")]\n",
    "\n",
    "except Exception as e:\n",
    "    print(f\"{e}\\n\\nThe process will terminate in 10 seconds...\")\n",
    "    time.sleep(10)\n",
    "\n",
    "finally:\n",
    "    driver.close()\n",
    "    driver.quit()"
   ]
  },
  {
   "cell_type": "code",
   "execution_count": 52,
   "metadata": {},
   "outputs": [],
   "source": [
    "m_final_data = final_data\n",
    "m_temp_data = temp_data"
   ]
  },
  {
   "cell_type": "code",
   "execution_count": 54,
   "metadata": {},
   "outputs": [],
   "source": [
    "def divide_rows(row):   # Разделяет один ряд с n-ным количеством \"|\" на n+1 рядов\n",
    "    result = []\n",
    "    while \"｜\" in \"\".join(row):\n",
    "        irow = [row[0], row[1][:row[1].index(\"｜\")], row[2][:row[2].index(\"｜\")-1], row[3]]\n",
    "        row = [row[0], row[1][row[1].index(\"｜\")+1:], row[2][row[2].index(\"｜\")+2:], row[3]]\n",
    "        result.append(irow)\n",
    "    result.append([row[0], row[1][0:], row[2][0:], row[3]])\n",
    "    return result \n",
    "\n",
    "data = []\n",
    "for i in range(4, len(m_temp_data), 4):\n",
    "    temp_arr = [re.sub(rm_parenthesis, \"\", td.replace(\"&nbsp;\", \" \")) for td in m_temp_data[i-4:i]]     # регулярку надо в другом месте применять\n",
    "    if \"｜\" in \"\".join(temp_arr):\n",
    "        temp_arr = divide_rows(temp_arr)\n",
    "    data.extend([temp_arr] if len(temp_arr)==4 else temp_arr)\n",
    "\n",
    "m_final_data = pd.DataFrame(data=data, columns=headers)\n",
    "m_final_data.drop(labels=[\"No\", \"English\"], axis=1, inplace=True)\n",
    "m_final_data.head()\n",
    "m_final_data.to_csv(path_or_buf=\".\\\\test.csv\", index=False)"
   ]
  },
  {
   "cell_type": "markdown",
   "metadata": {},
   "source": [
    "## Скрейпинг для других систем транскрипции"
   ]
  },
  {
   "cell_type": "code",
   "execution_count": 17,
   "metadata": {},
   "outputs": [
    {
     "name": "stdout",
     "output_type": "stream",
     "text": [
      "Message: element not interactable\n",
      "  (Session info: chrome=119.0.6045.200)\n",
      "Stacktrace:\n",
      "\tGetHandleVerifier [0x00007FF7AFA782B2+55298]\n",
      "\t(No symbol) [0x00007FF7AF9E5E02]\n",
      "\t(No symbol) [0x00007FF7AF8A045D]\n",
      "\t(No symbol) [0x00007FF7AF8DCA37]\n",
      "\t(No symbol) [0x00007FF7AF8DBD82]\n",
      "\t(No symbol) [0x00007FF7AF9020AA]\n",
      "\t(No symbol) [0x00007FF7AF8D80CF]\n",
      "\t(No symbol) [0x00007FF7AF9022C0]\n",
      "\t(No symbol) [0x00007FF7AF91AAA4]\n",
      "\t(No symbol) [0x00007FF7AF901E83]\n",
      "\t(No symbol) [0x00007FF7AF8D670A]\n",
      "\t(No symbol) [0x00007FF7AF8D7964]\n",
      "\tGetHandleVerifier [0x00007FF7AFDF0AAB+3694587]\n",
      "\tGetHandleVerifier [0x00007FF7AFE4728E+4048862]\n",
      "\tGetHandleVerifier [0x00007FF7AFE3F173+4015811]\n",
      "\tGetHandleVerifier [0x00007FF7AFB147D6+695590]\n",
      "\t(No symbol) [0x00007FF7AF9F0CE8]\n",
      "\t(No symbol) [0x00007FF7AF9ECF34]\n",
      "\t(No symbol) [0x00007FF7AF9ED062]\n",
      "\t(No symbol) [0x00007FF7AF9DD3A3]\n",
      "\tBaseThreadInitThunk [0x00007FFDA0407344+20]\n",
      "\tRtlUserThreadStart [0x00007FFDA21226B1+33]\n",
      "\n",
      "\n",
      "The process will terminate in 10 seconds...\n"
     ]
    }
   ],
   "source": [
    "final_data = pd.read_csv(\"./test.csv\")\n",
    "\n",
    "driver = webdriver.Chrome()\n",
    "\n",
    "try:\n",
    "    def get_palladius(url, src_table, variations=None):\n",
    "\n",
    "        def clear_text(element):\n",
    "            length = len(element.get_attribute('value'))\n",
    "            element.send_keys(length * Keys.BACKSPACE)\n",
    "\n",
    "        if variations is not None:\n",
    "            pass\n",
    "\n",
    "        driver.get(url)\n",
    "        scraped = []\n",
    "        element = WebDriverWait(driver, 10).until( \n",
    "            EC.presence_of_element_located((By.CLASS_NAME, \"pinyin\"))\n",
    "        )\n",
    "\n",
    "        for tra in src_table:\n",
    "            textbox = driver.find_element(By.CLASS_NAME, \"pinyin\") \n",
    "            convert_button = driver.find_element(By.CLASS_NAME, \"translate\")\n",
    "\n",
    "            textbox.send_keys(tra)\n",
    "            convert_button.click()\n",
    "    \n",
    "            driver.implicitly_wait(1)\n",
    "            scraped.append(driver.find_element(By.CLASS_NAME, \"palladius\").get_attribute(\"innerHTML\"))\n",
    "            clear_text(textbox)\n",
    "        return scraped\n",
    "    \n",
    "    palladius = pd.Series(data=get_palladius(\"https://palladius.ru/\", [tra for tra in final_data[\"Pinyin\"]]))\n",
    "    final_data = pd.concat(objs=[final_data, palladius], axis=1, index=False)\n",
    "    print(final_data)\n",
    "\n",
    "except Exception as e:\n",
    "    print(f\"{e}\\n\\nThe process will terminate in 10 seconds...\")\n",
    "    time.sleep(10)\n",
    "\n",
    "finally:\n",
    "    driver.close()\n",
    "    driver.quit()"
   ]
  },
  {
   "cell_type": "code",
   "execution_count": null,
   "metadata": {},
   "outputs": [],
   "source": [
    "driver.get(\"https://ctext.org/pinyin.pl?if=en\")\n",
    "element = WebDriverWait(driver, 10).until( \n",
    "    EC.presence_of_element_located((By.NAME, \"text\"))\n",
    ")\n",
    "\n",
    "textbox = driver.find_element(By.NAME, \"text\")\n",
    "system_switch = driver.find_element(By.NAME, \"to\")\n",
    "convert_button = driver.find_element(By.CSS_SELECTOR, \"[value='Convert']\") \n",
    "\n",
    "system_switch.\n",
    "\n",
    "textbox.send_keys(final_data[\"Pinyin\"][1])\n",
    "convert_button.click()"
   ]
  },
  {
   "cell_type": "markdown",
   "metadata": {},
   "source": [
    "## Далее клетки для полномасштабной работы\n",
    "Не трогать пока не отлажен скрейпинг для HSK 1"
   ]
  },
  {
   "cell_type": "code",
   "execution_count": 30,
   "metadata": {},
   "outputs": [
    {
     "name": "stdout",
     "output_type": "stream",
     "text": [
      "Shape of passed values is (1996, 1), indices imply (1996, 4)\n",
      "\n",
      "The process will terminate in 10 seconds...\n"
     ]
    }
   ],
   "source": [
    "options = ChromeOptions()\n",
    "options.add_argument(\"--headless=new\")\n",
    "driver = webdriver.Chrome(options=options)\n",
    "\n",
    "try:\n",
    "    driver.get(\"https://mandarinbean.com/new-hsk-1-word-list/\")\n",
    "    headers = [header.get_attribute(\"innerHTML\") for header in driver.find_elements(By.TAG_NAME, \"strong\")]\n",
    "    final_data = pd.DataFrame(columns=headers)\n",
    "\n",
    "    def get_table(url):     # Берёт страницу и собирает с неё все элементы таблицы (в тегах <td>) в датафрейм\n",
    "\n",
    "        def divide_rows(row):   # Разделяет один ряд с n-ным количеством \"|\" на n+1 рядов\n",
    "            result = []\n",
    "            while \"｜\" in \"\".join(row):\n",
    "                irow = [row[0], row[1][:row[1].index(\"｜\")], row[2][:row[2].index(\"｜\")-1], row[3]]\n",
    "                row = [row[0], row[1][row[1].index(\"｜\")+1:], row[2][row[2].index(\"｜\")+2:], row[3]]\n",
    "                result.append(irow)\n",
    "            result.append([row[0], row[1][0:], row[2][0:], row[3]])\n",
    "            return result \n",
    "\n",
    "        driver.get(url)\n",
    "        element = WebDriverWait(driver, 10).until(          # Ожидание прогрузки элементов в тегах <td>\n",
    "            EC.presence_of_element_located((By.TAG_NAME, \"td\"))\n",
    "        )\n",
    "\n",
    "        temp_data = [value.get_attribute(\"innerHTML\") for value in driver.find_elements(By.TAG_NAME, \"td\")]\n",
    "\n",
    "        data = []\n",
    "        for i in range(4, len(temp_data), 4):\n",
    "            temp_arr = [re.sub(rm_parenthesis, \"\", td.replace(\"&nbsp;\", \" \")) for td in temp_data[i-4:i]]\n",
    "            if \"｜\" in \"\".join(temp_arr):\n",
    "                temp_arr = divide_rows(temp_arr)\n",
    "            data.extend([temp_arr] if len(temp_arr)==4 else temp_arr)\n",
    "\n",
    "        return pd.DataFrame(data=data, columns=headers)\n",
    "\n",
    "    for i in range(1, 7):\n",
    "        final_data = pd.concat(objs=[final_data, get_table(f\"https://mandarinbean.com/new-hsk-{i}-word-list/\")]) \n",
    "        \n",
    "    final_data.drop(labels=[\"No\", \"English\"], axis=1, inplace=True)\n",
    "    final_data.to_csv(path_or_buf=\".\\\\pinyin.csv\", index=False)\n",
    "\n",
    "except Exception as e:\n",
    "    print(f\"{e}\\n\\nThe process will terminate in 10 seconds...\")\n",
    "    time.sleep(10)\n",
    "\n",
    "finally:\n",
    "    driver.close()\n",
    "    driver.quit()"
   ]
  },
  {
   "cell_type": "code",
   "execution_count": 24,
   "metadata": {},
   "outputs": [
    {
     "data": {
      "text/html": [
       "<div>\n",
       "<style scoped>\n",
       "    .dataframe tbody tr th:only-of-type {\n",
       "        vertical-align: middle;\n",
       "    }\n",
       "\n",
       "    .dataframe tbody tr th {\n",
       "        vertical-align: top;\n",
       "    }\n",
       "\n",
       "    .dataframe thead th {\n",
       "        text-align: right;\n",
       "    }\n",
       "</style>\n",
       "<table border=\"1\" class=\"dataframe\">\n",
       "  <thead>\n",
       "    <tr style=\"text-align: right;\">\n",
       "      <th></th>\n",
       "      <th>Chinese</th>\n",
       "      <th>Pinyin</th>\n",
       "      <th>English</th>\n",
       "    </tr>\n",
       "  </thead>\n",
       "  <tbody>\n",
       "    <tr>\n",
       "      <th>0</th>\n",
       "      <td>爱</td>\n",
       "      <td>ài</td>\n",
       "      <td>love</td>\n",
       "    </tr>\n",
       "    <tr>\n",
       "      <th>1</th>\n",
       "      <td>爱好</td>\n",
       "      <td>ài hào</td>\n",
       "      <td>hobby</td>\n",
       "    </tr>\n",
       "    <tr>\n",
       "      <th>2</th>\n",
       "      <td>八</td>\n",
       "      <td>bā</td>\n",
       "      <td>eight</td>\n",
       "    </tr>\n",
       "    <tr>\n",
       "      <th>3</th>\n",
       "      <td>爸爸｜爸</td>\n",
       "      <td>bàba ｜ bà</td>\n",
       "      <td>dad</td>\n",
       "    </tr>\n",
       "    <tr>\n",
       "      <th>4</th>\n",
       "      <td>吧</td>\n",
       "      <td>ba</td>\n",
       "      <td>(interjection particle)</td>\n",
       "    </tr>\n",
       "  </tbody>\n",
       "</table>\n",
       "</div>"
      ],
      "text/plain": [
       "  Chinese     Pinyin                  English\n",
       "0       爱         ài                     love\n",
       "1      爱好     ài hào                    hobby\n",
       "2       八         bā                    eight\n",
       "3    爸爸｜爸  bàba ｜ bà                      dad\n",
       "4       吧         ba  (interjection particle)"
      ]
     },
     "execution_count": 24,
     "metadata": {},
     "output_type": "execute_result"
    }
   ],
   "source": [
    "data = pd.read_csv(\"./pinyin.csv\")\n",
    "data.head()"
   ]
  },
  {
   "cell_type": "code",
   "execution_count": null,
   "metadata": {},
   "outputs": [],
   "source": []
  }
 ],
 "metadata": {
  "kernelspec": {
   "display_name": "Python 3",
   "language": "python",
   "name": "python3"
  },
  "language_info": {
   "codemirror_mode": {
    "name": "ipython",
    "version": 3
   },
   "file_extension": ".py",
   "mimetype": "text/x-python",
   "name": "python",
   "nbconvert_exporter": "python",
   "pygments_lexer": "ipython3",
   "version": "3.12.0"
  }
 },
 "nbformat": 4,
 "nbformat_minor": 2
}
