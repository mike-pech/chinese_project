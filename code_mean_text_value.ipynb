{
 "cells": [
  {
   "cell_type": "code",
   "execution_count": 1,
   "metadata": {},
   "outputs": [],
   "source": [
    "import pandas as pd\n",
    "from collections import Counter"
   ]
  },
  {
   "cell_type": "code",
   "execution_count": 2,
   "metadata": {},
   "outputs": [],
   "source": [
    "# убираем колоку с иероглифами\n",
    "df = pd.read_csv('final_dataset.csv')"
   ]
  },
  {
   "cell_type": "code",
   "execution_count": 3,
   "metadata": {},
   "outputs": [],
   "source": [
    "# смотрим первую колонку (с иероглифами). \n",
    "# если один иероглиф (один слог) --> оставляем\n",
    "length_condition = df.apply(lambda row: len(str(row.iloc[0])) > 1, axis=1)\n",
    "df_filtered = df[~length_condition]"
   ]
  },
  {
   "cell_type": "code",
   "execution_count": 4,
   "metadata": {},
   "outputs": [
    {
     "data": {
      "text/html": [
       "<div>\n",
       "<style scoped>\n",
       "    .dataframe tbody tr th:only-of-type {\n",
       "        vertical-align: middle;\n",
       "    }\n",
       "\n",
       "    .dataframe tbody tr th {\n",
       "        vertical-align: top;\n",
       "    }\n",
       "\n",
       "    .dataframe thead th {\n",
       "        text-align: right;\n",
       "    }\n",
       "</style>\n",
       "<table border=\"1\" class=\"dataframe\">\n",
       "  <thead>\n",
       "    <tr style=\"text-align: right;\">\n",
       "      <th></th>\n",
       "      <th>Pinyin</th>\n",
       "      <th>Wade-Giles</th>\n",
       "      <th>Romatzyh</th>\n",
       "      <th>Palladiy</th>\n",
       "    </tr>\n",
       "  </thead>\n",
       "  <tbody>\n",
       "    <tr>\n",
       "      <th>0</th>\n",
       "      <td>аи</td>\n",
       "      <td>аи</td>\n",
       "      <td>аы</td>\n",
       "      <td>ай</td>\n",
       "    </tr>\n",
       "    <tr>\n",
       "      <th>2</th>\n",
       "      <td>ба</td>\n",
       "      <td>па</td>\n",
       "      <td>ба</td>\n",
       "      <td>ба</td>\n",
       "    </tr>\n",
       "    <tr>\n",
       "      <th>4</th>\n",
       "      <td>ба</td>\n",
       "      <td>па</td>\n",
       "      <td>бах</td>\n",
       "      <td>ба</td>\n",
       "    </tr>\n",
       "    <tr>\n",
       "      <th>5</th>\n",
       "      <td>баи</td>\n",
       "      <td>паи</td>\n",
       "      <td>баир</td>\n",
       "      <td>бай</td>\n",
       "    </tr>\n",
       "    <tr>\n",
       "      <th>7</th>\n",
       "      <td>баи</td>\n",
       "      <td>паи</td>\n",
       "      <td>бае</td>\n",
       "      <td>бай</td>\n",
       "    </tr>\n",
       "    <tr>\n",
       "      <th>...</th>\n",
       "      <td>...</td>\n",
       "      <td>...</td>\n",
       "      <td>...</td>\n",
       "      <td>...</td>\n",
       "    </tr>\n",
       "    <tr>\n",
       "      <th>5147</th>\n",
       "      <td>зу</td>\n",
       "      <td>цу</td>\n",
       "      <td>тзвоу</td>\n",
       "      <td>цзу</td>\n",
       "    </tr>\n",
       "    <tr>\n",
       "      <th>5148</th>\n",
       "      <td>зу</td>\n",
       "      <td>цу</td>\n",
       "      <td>тзвоу</td>\n",
       "      <td>цзу</td>\n",
       "    </tr>\n",
       "    <tr>\n",
       "      <th>5152</th>\n",
       "      <td>зуан</td>\n",
       "      <td>цуан</td>\n",
       "      <td>тзуанн</td>\n",
       "      <td>цзуань</td>\n",
       "    </tr>\n",
       "    <tr>\n",
       "      <th>5155</th>\n",
       "      <td>зуи</td>\n",
       "      <td>цуи</td>\n",
       "      <td>тзуеы</td>\n",
       "      <td>цзуй</td>\n",
       "    </tr>\n",
       "    <tr>\n",
       "      <th>5157</th>\n",
       "      <td>зуо</td>\n",
       "      <td>цо</td>\n",
       "      <td>тзуох</td>\n",
       "      <td>цзо</td>\n",
       "    </tr>\n",
       "  </tbody>\n",
       "</table>\n",
       "<p>1086 rows × 4 columns</p>\n",
       "</div>"
      ],
      "text/plain": [
       "     Pinyin Wade-Giles Romatzyh Palladiy\n",
       "0        аи        аи        аы       ай\n",
       "2        ба        па        ба       ба\n",
       "4        ба        па       бах       ба\n",
       "5       баи       паи      баир      бай\n",
       "7       баи       паи       бае      бай\n",
       "...     ...        ...      ...      ...\n",
       "5147     зу        цу     тзвоу      цзу\n",
       "5148     зу        цу     тзвоу      цзу\n",
       "5152   зуан      цуан    тзуанн   цзуань\n",
       "5155    зуи       цуи     тзуеы     цзуй\n",
       "5157    зуо        цо     тзуох      цзо\n",
       "\n",
       "[1086 rows x 4 columns]"
      ]
     },
     "execution_count": 4,
     "metadata": {},
     "output_type": "execute_result"
    }
   ],
   "source": [
    "# смотрим как выглядит табличка\n",
    "df_filtered = df_filtered.drop(['Chinese'], axis=1)\n",
    "df_filtered"
   ]
  },
  {
   "cell_type": "code",
   "execution_count": 5,
   "metadata": {},
   "outputs": [],
   "source": [
    "def calculate_common_text(texts):\n",
    "\n",
    "    # считаем среднюю длину слов в строке датасета\n",
    "    num = round(sum(len(word) for word in texts) / len(texts))\n",
    "\n",
    "    # пустая строка для записи конечного слова\n",
    "    average_word = \"\"\n",
    "\n",
    "    # идем побуквенно\n",
    "    for i in range(num):\n",
    "        # достаем буквы на позиции i из слов\n",
    "        characters_at_position = [text[i] if i < len(text) else \"\" for text in texts]\n",
    "\n",
    "        # ЕСли позиция пустая, берем букву с позиции оставшихся слов that are long enough\n",
    "        if not characters_at_position:\n",
    "            characters_at_position = [Counter([text[j] if j < len(text) else \"\" for text in texts]).most_common(2)[1][0] for j in range(num)]\n",
    "\n",
    "        # берем самую часто повторяемую букву на позиции\n",
    "        most_common_letter, _ = Counter(characters_at_position).most_common(1)[0]\n",
    "\n",
    "        # записываем ее к итоговому слову\n",
    "        average_word += most_common_letter\n",
    "\n",
    "    return average_word"
   ]
  },
  {
   "cell_type": "code",
   "execution_count": 6,
   "metadata": {},
   "outputs": [
    {
     "name": "stdout",
     "output_type": "stream",
     "text": [
      "     Pinyin Wade-Giles Romatzyh Palladiy Result\n",
      "0        аи        аи        аы       ай     аи\n",
      "2        ба        па        ба       ба     ба\n",
      "4        ба        па       бах       ба     ба\n",
      "5       баи       паи      баир      бай    баи\n",
      "7       баи       паи       бае      бай    баи\n",
      "...     ...        ...      ...      ...    ...\n",
      "5147     зу        цу     тзвоу      цзу     цу\n",
      "5148     зу        цу     тзвоу      цзу     цу\n",
      "5152   зуан      цуан    тзуанн   цзуань  цуанн\n",
      "5155    зуи       цуи     тзуеы     цзуй    цуи\n",
      "5157    зуо        цо     тзуох      цзо    цзо\n",
      "\n",
      "[1086 rows x 5 columns]\n"
     ]
    }
   ],
   "source": [
    "# применяем ко всему датасету\n",
    "df_filtered[\"Result\"] = df_filtered.apply(lambda row: calculate_common_text(row), axis=1)\n",
    "print(df_filtered)"
   ]
  }
 ],
 "metadata": {
  "kernelspec": {
   "display_name": "Python 3",
   "language": "python",
   "name": "python3"
  },
  "language_info": {
   "codemirror_mode": {
    "name": "ipython",
    "version": 3
   },
   "file_extension": ".py",
   "mimetype": "text/x-python",
   "name": "python",
   "nbconvert_exporter": "python",
   "pygments_lexer": "ipython3",
   "version": "3.11.5"
  }
 },
 "nbformat": 4,
 "nbformat_minor": 2
}
